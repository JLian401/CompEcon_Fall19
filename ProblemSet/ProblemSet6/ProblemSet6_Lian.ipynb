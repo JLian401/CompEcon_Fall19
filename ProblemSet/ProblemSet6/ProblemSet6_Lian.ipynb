{
 "cells": [
  {
   "cell_type": "markdown",
   "metadata": {},
   "source": [
    "### Data collection"
   ]
  },
  {
   "cell_type": "code",
   "execution_count": 1,
   "metadata": {},
   "outputs": [],
   "source": [
    "# Import necessary packages\n",
    "import pandas as pd\n",
    "import numpy as np\n",
    "import datetime\n",
    "import requests\n",
    "import json"
   ]
  },
  {
   "cell_type": "markdown",
   "metadata": {},
   "source": [
    "#### Data source I: Google BigQuery"
   ]
  },
  {
   "cell_type": "code",
   "execution_count": 2,
   "metadata": {},
   "outputs": [],
   "source": [
    "# import the official package for Google big query API \n",
    "from google.cloud import bigquery\n",
    "\n",
    "# Set Google Credentials environmental\n",
    "import os\n",
    "os.environ[\"GOOGLE_APPLICATION_CREDENTIALS\"]=\"C:/googlequery/jetlearningatusc-6a06108d1fda.json\"\n",
    "\n",
    "# Initiate BigQuery Client\n",
    "client = bigquery.Client()"
   ]
  },
  {
   "cell_type": "code",
   "execution_count": 3,
   "metadata": {},
   "outputs": [],
   "source": [
    "# Connect the 2011 outpatient_charges table from bigquery-public-data:medicare dataset\n",
    "\n",
    "# Only focus on clinic visits data \n",
    "apcList = ['0604 - Level 1 Hospital Clinic Visits','0605 - Level 2 Hospital Clinic Visits','0606 - Level 3 Hospital Clinic Visits',\n",
    "          '0607 - Level 4 Hospital Clinic Visits','0608 - Level 5 Hospital Clinic Visits']\n",
    "\n",
    "# Uses SQL query language as input\n",
    "\n",
    "query = \"\"\"\n",
    "    SELECT apc,provider_state,outpatient_services,average_total_payments\n",
    "    FROM `bigquery-public-data.medicare.outpatient_charges_2012`\n",
    "    WHERE apc IN UNNEST (@apc)\n",
    "\"\"\"\n",
    "# API request and data importing \n",
    "\n",
    "query_params = [\n",
    "    bigquery.ArrayQueryParameter(\"apc\", \"STRING\", apcList),\n",
    "]\n",
    "job_config = bigquery.QueryJobConfig()\n",
    "job_config.query_parameters = query_params\n",
    "query_job = client.query(\n",
    "    query,\n",
    "    location=\"US\",\n",
    "    job_config=job_config,\n",
    ")\n",
    "\n",
    "iterator = query_job.result(timeout=30)\n",
    "rows = list(iterator)\n",
    "\n",
    "outpatientCharge2011 = pd.DataFrame(data=[list(x.values()) for x in rows], columns=list(rows[0].keys()))"
   ]
  },
  {
   "cell_type": "code",
   "execution_count": 4,
   "metadata": {
    "scrolled": false
   },
   "outputs": [
    {
     "data": {
      "text/html": [
       "<div>\n",
       "<style scoped>\n",
       "    .dataframe tbody tr th:only-of-type {\n",
       "        vertical-align: middle;\n",
       "    }\n",
       "\n",
       "    .dataframe tbody tr th {\n",
       "        vertical-align: top;\n",
       "    }\n",
       "\n",
       "    .dataframe thead th {\n",
       "        text-align: right;\n",
       "    }\n",
       "</style>\n",
       "<table border=\"1\" class=\"dataframe\">\n",
       "  <thead>\n",
       "    <tr style=\"text-align: right;\">\n",
       "      <th></th>\n",
       "      <th>apc</th>\n",
       "      <th>provider_state</th>\n",
       "      <th>outpatient_services</th>\n",
       "      <th>average_total_payments</th>\n",
       "    </tr>\n",
       "  </thead>\n",
       "  <tbody>\n",
       "    <tr>\n",
       "      <th>0</th>\n",
       "      <td>0604 - Level 1 Hospital Clinic Visits</td>\n",
       "      <td>AK</td>\n",
       "      <td>1679</td>\n",
       "      <td>62.290310</td>\n",
       "    </tr>\n",
       "    <tr>\n",
       "      <th>1</th>\n",
       "      <td>0604 - Level 1 Hospital Clinic Visits</td>\n",
       "      <td>AK</td>\n",
       "      <td>561</td>\n",
       "      <td>61.321515</td>\n",
       "    </tr>\n",
       "    <tr>\n",
       "      <th>2</th>\n",
       "      <td>0604 - Level 1 Hospital Clinic Visits</td>\n",
       "      <td>AK</td>\n",
       "      <td>169</td>\n",
       "      <td>67.538994</td>\n",
       "    </tr>\n",
       "    <tr>\n",
       "      <th>3</th>\n",
       "      <td>0604 - Level 1 Hospital Clinic Visits</td>\n",
       "      <td>AK</td>\n",
       "      <td>1173</td>\n",
       "      <td>62.184467</td>\n",
       "    </tr>\n",
       "    <tr>\n",
       "      <th>4</th>\n",
       "      <td>0604 - Level 1 Hospital Clinic Visits</td>\n",
       "      <td>AK</td>\n",
       "      <td>122</td>\n",
       "      <td>62.618852</td>\n",
       "    </tr>\n",
       "  </tbody>\n",
       "</table>\n",
       "</div>"
      ],
      "text/plain": [
       "                                     apc provider_state  outpatient_services  \\\n",
       "0  0604 - Level 1 Hospital Clinic Visits             AK                 1679   \n",
       "1  0604 - Level 1 Hospital Clinic Visits             AK                  561   \n",
       "2  0604 - Level 1 Hospital Clinic Visits             AK                  169   \n",
       "3  0604 - Level 1 Hospital Clinic Visits             AK                 1173   \n",
       "4  0604 - Level 1 Hospital Clinic Visits             AK                  122   \n",
       "\n",
       "   average_total_payments  \n",
       "0               62.290310  \n",
       "1               61.321515  \n",
       "2               67.538994  \n",
       "3               62.184467  \n",
       "4               62.618852  "
      ]
     },
     "execution_count": 4,
     "metadata": {},
     "output_type": "execute_result"
    }
   ],
   "source": [
    "outpatientCharge2011.head()"
   ]
  },
  {
   "cell_type": "code",
   "execution_count": 5,
   "metadata": {},
   "outputs": [],
   "source": [
    "# Aggregate the data to get state level data\n",
    "\n",
    "df_avgPayment = outpatientCharge2011['average_total_payments'].groupby(outpatientCharge2011['provider_state']).mean()\n",
    "df_avgPayment = pd.DataFrame(df_avgPayment)\n",
    "df_avgPayment = df_avgPayment.reset_index()"
   ]
  },
  {
   "cell_type": "code",
   "execution_count": 6,
   "metadata": {},
   "outputs": [
    {
     "data": {
      "image/png": "[encoded data removed]",
      "text/plain": [
       "<Figure size 432x288 with 1 Axes>"
      ]
     },
     "metadata": {},
     "output_type": "display_data"
    }
   ],
   "source": [
    "# Import visualization pacakge to see the distribution of the dependent variable\n",
    "\n",
    "import matplotlib.pyplot as plt\n",
    "%matplotlib inline\n",
    "import seaborn as sns\n",
    "\n",
    "plt.style.use('ggplot')\n",
    "sns.distplot(df_avgPayment['average_total_payments'],kde=True,rug=False,bins=30)\n",
    "plt.title('Distribution of average_total_payments')\n",
    "\n",
    "plt.savefig(\"figure1.png\",dpi=100)"
   ]
  },
  {
   "cell_type": "markdown",
   "metadata": {},
   "source": [
    "#### Data source II: CDC API\n",
    "\n",
    "CDC: Centers for Disease Control and Prevention"
   ]
  },
  {
   "cell_type": "code",
   "execution_count": 7,
   "metadata": {},
   "outputs": [],
   "source": [
    "# import sepecific package for CDC API\n",
    "from sodapy import Socrata\n",
    "\n",
    "# import credentials to connect to API\n",
    "with open('C:/Data/Cond/cdcApiToken.json') as f:\n",
    "    creds = json.loads(f.read())\n",
    "\n",
    "tokenCDC = creds['app_token']"
   ]
  },
  {
   "cell_type": "code",
   "execution_count": 8,
   "metadata": {},
   "outputs": [],
   "source": [
    "# Import the interested data \n",
    "\n",
    "client = Socrata(\"chronicdata.cdc.gov\", tokenCDC)\n",
    "\n",
    "results = client.get(\"nxst-x9p4\", where=\"year = 2011\", limit=12000)\n",
    "\n",
    "# Convert to pandas DataFrame\n",
    "results_df = pd.DataFrame.from_records(results)"
   ]
  },
  {
   "cell_type": "code",
   "execution_count": 9,
   "metadata": {},
   "outputs": [],
   "source": [
    "# Subset the data to select enacted observations\n",
    "\n",
    "isEnacted = (results_df['status'] == \"Enacted\")\n",
    "results_df = results_df[isEnacted]"
   ]
  },
  {
   "cell_type": "code",
   "execution_count": 10,
   "metadata": {
    "scrolled": true
   },
   "outputs": [
    {
     "data": {
      "text/html": [
       "<div>\n",
       "<style scoped>\n",
       "    .dataframe tbody tr th:only-of-type {\n",
       "        vertical-align: middle;\n",
       "    }\n",
       "\n",
       "    .dataframe tbody tr th {\n",
       "        vertical-align: top;\n",
       "    }\n",
       "\n",
       "    .dataframe thead th {\n",
       "        text-align: right;\n",
       "    }\n",
       "</style>\n",
       "<table border=\"1\" class=\"dataframe\">\n",
       "  <thead>\n",
       "    <tr style=\"text-align: right;\">\n",
       "      <th></th>\n",
       "      <th>stateFull</th>\n",
       "      <th>topic</th>\n",
       "      <th>count</th>\n",
       "    </tr>\n",
       "  </thead>\n",
       "  <tbody>\n",
       "    <tr>\n",
       "      <th>0</th>\n",
       "      <td>Alabama</td>\n",
       "      <td>Nutrition</td>\n",
       "      <td>23</td>\n",
       "    </tr>\n",
       "    <tr>\n",
       "      <th>1</th>\n",
       "      <td>Alabama</td>\n",
       "      <td>Obesity</td>\n",
       "      <td>10</td>\n",
       "    </tr>\n",
       "    <tr>\n",
       "      <th>2</th>\n",
       "      <td>Alabama</td>\n",
       "      <td>Physical Activity</td>\n",
       "      <td>7</td>\n",
       "    </tr>\n",
       "    <tr>\n",
       "      <th>3</th>\n",
       "      <td>Alaska</td>\n",
       "      <td>Nutrition</td>\n",
       "      <td>2</td>\n",
       "    </tr>\n",
       "    <tr>\n",
       "      <th>4</th>\n",
       "      <td>Alaska</td>\n",
       "      <td>Obesity</td>\n",
       "      <td>1</td>\n",
       "    </tr>\n",
       "  </tbody>\n",
       "</table>\n",
       "</div>"
      ],
      "text/plain": [
       "  stateFull              topic  count\n",
       "0   Alabama          Nutrition     23\n",
       "1   Alabama            Obesity     10\n",
       "2   Alabama  Physical Activity      7\n",
       "3    Alaska          Nutrition      2\n",
       "4    Alaska            Obesity      1"
      ]
     },
     "execution_count": 10,
     "metadata": {},
     "output_type": "execute_result"
    }
   ],
   "source": [
    "# Aggregrate the data to state level\n",
    "\n",
    "df_countPolicy = pd.DataFrame(results_df.groupby(['locationdesc','topicdesc']).size())\n",
    "df_countPolicy = df_countPolicy.reset_index()\n",
    "df_countPolicy.columns = ['stateFull','topic','count']\n",
    "df_countPolicy.head()"
   ]
  },
  {
   "cell_type": "code",
   "execution_count": 11,
   "metadata": {},
   "outputs": [
    {
     "data": {
      "text/html": [
       "<div>\n",
       "<style scoped>\n",
       "    .dataframe tbody tr th:only-of-type {\n",
       "        vertical-align: middle;\n",
       "    }\n",
       "\n",
       "    .dataframe tbody tr th {\n",
       "        vertical-align: top;\n",
       "    }\n",
       "\n",
       "    .dataframe thead th {\n",
       "        text-align: right;\n",
       "    }\n",
       "</style>\n",
       "<table border=\"1\" class=\"dataframe\">\n",
       "  <thead>\n",
       "    <tr style=\"text-align: right;\">\n",
       "      <th>topic</th>\n",
       "      <th>stateFull</th>\n",
       "      <th>Nutrition</th>\n",
       "      <th>Obesity</th>\n",
       "      <th>Physical Activity</th>\n",
       "      <th>totalPolicy</th>\n",
       "    </tr>\n",
       "  </thead>\n",
       "  <tbody>\n",
       "    <tr>\n",
       "      <th>0</th>\n",
       "      <td>Alabama</td>\n",
       "      <td>23.0</td>\n",
       "      <td>10.0</td>\n",
       "      <td>7.0</td>\n",
       "      <td>40.0</td>\n",
       "    </tr>\n",
       "    <tr>\n",
       "      <th>1</th>\n",
       "      <td>Alaska</td>\n",
       "      <td>2.0</td>\n",
       "      <td>1.0</td>\n",
       "      <td>6.0</td>\n",
       "      <td>9.0</td>\n",
       "    </tr>\n",
       "    <tr>\n",
       "      <th>2</th>\n",
       "      <td>Arizona</td>\n",
       "      <td>4.0</td>\n",
       "      <td>7.0</td>\n",
       "      <td>6.0</td>\n",
       "      <td>17.0</td>\n",
       "    </tr>\n",
       "    <tr>\n",
       "      <th>3</th>\n",
       "      <td>Arkansas</td>\n",
       "      <td>55.0</td>\n",
       "      <td>31.0</td>\n",
       "      <td>21.0</td>\n",
       "      <td>107.0</td>\n",
       "    </tr>\n",
       "    <tr>\n",
       "      <th>4</th>\n",
       "      <td>California</td>\n",
       "      <td>37.0</td>\n",
       "      <td>10.0</td>\n",
       "      <td>26.0</td>\n",
       "      <td>73.0</td>\n",
       "    </tr>\n",
       "  </tbody>\n",
       "</table>\n",
       "</div>"
      ],
      "text/plain": [
       "topic   stateFull  Nutrition  Obesity  Physical Activity  totalPolicy\n",
       "0         Alabama       23.0     10.0                7.0         40.0\n",
       "1          Alaska        2.0      1.0                6.0          9.0\n",
       "2         Arizona        4.0      7.0                6.0         17.0\n",
       "3        Arkansas       55.0     31.0               21.0        107.0\n",
       "4      California       37.0     10.0               26.0         73.0"
      ]
     },
     "execution_count": 11,
     "metadata": {},
     "output_type": "execute_result"
    }
   ],
   "source": [
    "# Further transform the data to pivot the \"topic\" column by their values \n",
    "\n",
    "df_countPolicy = df_countPolicy.pivot(index='stateFull', columns='topic')['count']\n",
    "df_countPolicy = df_countPolicy.reset_index()\n",
    "df_countPolicy['totalPolicy'] = df_countPolicy['Nutrition']+df_countPolicy['Obesity']+df_countPolicy['Physical Activity']\n",
    "df_countPolicy.head()"
   ]
  },
  {
   "cell_type": "markdown",
   "metadata": {},
   "source": [
    "#### Data resource III: nursingce.com WebScrapping"
   ]
  },
  {
   "cell_type": "code",
   "execution_count": 12,
   "metadata": {},
   "outputs": [],
   "source": [
    "# Import BeautifulSoup for web scrapping\n",
    "from bs4 import BeautifulSoup\n",
    "import urllib.request"
   ]
  },
  {
   "cell_type": "code",
   "execution_count": 13,
   "metadata": {},
   "outputs": [],
   "source": [
    "# Connect the resource website to collect data\n",
    "\n",
    "url = \"https://www.nursingce.com/blog/average-rn-salaries-by-state.html\"\n",
    "header = {'User-Agent': 'Mozilla/5.0'}\n",
    "    \n",
    "req = urllib.request.Request(url, headers=header)\n",
    "page = urllib.request.urlopen(req)\n",
    "soup = BeautifulSoup(page, 'lxml')\n",
    "\n",
    "items = soup.find_all(\"td\",{\"style\":\"width: 246.75px;\"})"
   ]
  },
  {
   "cell_type": "code",
   "execution_count": 14,
   "metadata": {},
   "outputs": [],
   "source": [
    "# Import re packages to convert the currency string to float \n",
    "\n",
    "from re import sub\n",
    "\n",
    "df_nursingIncome = pd.DataFrame(columns=['state','annualSalary','hourlySalary'])\n",
    "nursingIncome_dict = {'state':[],'annualSalary':[],'hourlySalary':[]}\n",
    "\n",
    "for i in range(1,52):\n",
    "    nursingIncome_dict['state'].append(items[i*3].text)\n",
    "    nursingIncome_dict['annualSalary'].append(float(sub(r'[^\\d.]','',items[i*3+1].text)))\n",
    "    nursingIncome_dict['hourlySalary'].append(float(sub(r'[^\\d.]','',items[i*3+2].text)))\n",
    "\n",
    "df_nursingIncome = pd.DataFrame(nursingIncome_dict)"
   ]
  },
  {
   "cell_type": "code",
   "execution_count": 15,
   "metadata": {
    "scrolled": true
   },
   "outputs": [
    {
     "data": {
      "text/html": [
       "<div>\n",
       "<style scoped>\n",
       "    .dataframe tbody tr th:only-of-type {\n",
       "        vertical-align: middle;\n",
       "    }\n",
       "\n",
       "    .dataframe tbody tr th {\n",
       "        vertical-align: top;\n",
       "    }\n",
       "\n",
       "    .dataframe thead th {\n",
       "        text-align: right;\n",
       "    }\n",
       "</style>\n",
       "<table border=\"1\" class=\"dataframe\">\n",
       "  <thead>\n",
       "    <tr style=\"text-align: right;\">\n",
       "      <th></th>\n",
       "      <th>state</th>\n",
       "      <th>annualSalary</th>\n",
       "      <th>hourlySalary</th>\n",
       "    </tr>\n",
       "  </thead>\n",
       "  <tbody>\n",
       "    <tr>\n",
       "      <th>0</th>\n",
       "      <td>Alabama</td>\n",
       "      <td>57890.0</td>\n",
       "      <td>27.83</td>\n",
       "    </tr>\n",
       "    <tr>\n",
       "      <th>1</th>\n",
       "      <td>Alaska</td>\n",
       "      <td>87510.0</td>\n",
       "      <td>42.07</td>\n",
       "    </tr>\n",
       "    <tr>\n",
       "      <th>2</th>\n",
       "      <td>Arizona</td>\n",
       "      <td>75110.0</td>\n",
       "      <td>36.11</td>\n",
       "    </tr>\n",
       "    <tr>\n",
       "      <th>3</th>\n",
       "      <td>Arkansas</td>\n",
       "      <td>58810.0</td>\n",
       "      <td>28.28</td>\n",
       "    </tr>\n",
       "    <tr>\n",
       "      <th>4</th>\n",
       "      <td>California</td>\n",
       "      <td>102700.0</td>\n",
       "      <td>49.37</td>\n",
       "    </tr>\n",
       "  </tbody>\n",
       "</table>\n",
       "</div>"
      ],
      "text/plain": [
       "        state  annualSalary  hourlySalary\n",
       "0     Alabama       57890.0         27.83\n",
       "1      Alaska       87510.0         42.07\n",
       "2     Arizona       75110.0         36.11\n",
       "3    Arkansas       58810.0         28.28\n",
       "4  California      102700.0         49.37"
      ]
     },
     "execution_count": 15,
     "metadata": {},
     "output_type": "execute_result"
    }
   ],
   "source": [
    "df_nursingIncome.head()"
   ]
  },
  {
   "cell_type": "markdown",
   "metadata": {},
   "source": [
    "#### Merge data to one table"
   ]
  },
  {
   "cell_type": "code",
   "execution_count": 16,
   "metadata": {},
   "outputs": [],
   "source": [
    "# Uniform the full state name for merging three tables together \n",
    "\n",
    "states = {\n",
    "        'AK': 'Alaska',\n",
    "        'AL': 'Alabama',\n",
    "        'AR': 'Arkansas',\n",
    "        'AS': 'American Samoa',\n",
    "        'AZ': 'Arizona',\n",
    "        'CA': 'California',\n",
    "        'CO': 'Colorado',\n",
    "        'CT': 'Connecticut',\n",
    "        'DC': 'District of Columbia',\n",
    "        'DE': 'Delaware',\n",
    "        'FL': 'Florida',\n",
    "        'GA': 'Georgia',\n",
    "        'GU': 'Guam',\n",
    "        'HI': 'Hawaii',\n",
    "        'IA': 'Iowa',\n",
    "        'ID': 'Idaho',\n",
    "        'IL': 'Illinois',\n",
    "        'IN': 'Indiana',\n",
    "        'KS': 'Kansas',\n",
    "        'KY': 'Kentucky',\n",
    "        'LA': 'Louisiana',\n",
    "        'MA': 'Massachusetts',\n",
    "        'MD': 'Maryland',\n",
    "        'ME': 'Maine',\n",
    "        'MI': 'Michigan',\n",
    "        'MN': 'Minnesota',\n",
    "        'MO': 'Missouri',\n",
    "        'MP': 'Northern Mariana Islands',\n",
    "        'MS': 'Mississippi',\n",
    "        'MT': 'Montana',\n",
    "        'NA': 'National',\n",
    "        'NC': 'North Carolina',\n",
    "        'ND': 'North Dakota',\n",
    "        'NE': 'Nebraska',\n",
    "        'NH': 'New Hampshire',\n",
    "        'NJ': 'New Jersey',\n",
    "        'NM': 'New Mexico',\n",
    "        'NV': 'Nevada',\n",
    "        'NY': 'New York',\n",
    "        'OH': 'Ohio',\n",
    "        'OK': 'Oklahoma',\n",
    "        'OR': 'Oregon',\n",
    "        'PA': 'Pennsylvania',\n",
    "        'PR': 'Puerto Rico',\n",
    "        'RI': 'Rhode Island',\n",
    "        'SC': 'South Carolina',\n",
    "        'SD': 'South Dakota',\n",
    "        'TN': 'Tennessee',\n",
    "        'TX': 'Texas',\n",
    "        'UT': 'Utah',\n",
    "        'VA': 'Virginia',\n",
    "        'VI': 'Virgin Islands',\n",
    "        'VT': 'Vermont',\n",
    "        'WA': 'Washington',\n",
    "        'WI': 'Wisconsin',\n",
    "        'WV': 'West Virginia',\n",
    "        'WY': 'Wyoming'\n",
    "}"
   ]
  },
  {
   "cell_type": "code",
   "execution_count": 17,
   "metadata": {
    "scrolled": true
   },
   "outputs": [
    {
     "data": {
      "text/html": [
       "<div>\n",
       "<style scoped>\n",
       "    .dataframe tbody tr th:only-of-type {\n",
       "        vertical-align: middle;\n",
       "    }\n",
       "\n",
       "    .dataframe tbody tr th {\n",
       "        vertical-align: top;\n",
       "    }\n",
       "\n",
       "    .dataframe thead th {\n",
       "        text-align: right;\n",
       "    }\n",
       "</style>\n",
       "<table border=\"1\" class=\"dataframe\">\n",
       "  <thead>\n",
       "    <tr style=\"text-align: right;\">\n",
       "      <th></th>\n",
       "      <th>provider_state</th>\n",
       "      <th>average_total_payments</th>\n",
       "      <th>stateFull</th>\n",
       "    </tr>\n",
       "  </thead>\n",
       "  <tbody>\n",
       "    <tr>\n",
       "      <th>0</th>\n",
       "      <td>AK</td>\n",
       "      <td>94.437888</td>\n",
       "      <td>Alaska</td>\n",
       "    </tr>\n",
       "    <tr>\n",
       "      <th>1</th>\n",
       "      <td>AL</td>\n",
       "      <td>77.343135</td>\n",
       "      <td>Alabama</td>\n",
       "    </tr>\n",
       "    <tr>\n",
       "      <th>2</th>\n",
       "      <td>AR</td>\n",
       "      <td>83.748560</td>\n",
       "      <td>Arkansas</td>\n",
       "    </tr>\n",
       "    <tr>\n",
       "      <th>3</th>\n",
       "      <td>AZ</td>\n",
       "      <td>98.472382</td>\n",
       "      <td>Arizona</td>\n",
       "    </tr>\n",
       "    <tr>\n",
       "      <th>4</th>\n",
       "      <td>CA</td>\n",
       "      <td>111.838101</td>\n",
       "      <td>California</td>\n",
       "    </tr>\n",
       "  </tbody>\n",
       "</table>\n",
       "</div>"
      ],
      "text/plain": [
       "  provider_state  average_total_payments   stateFull\n",
       "0             AK               94.437888      Alaska\n",
       "1             AL               77.343135     Alabama\n",
       "2             AR               83.748560    Arkansas\n",
       "3             AZ               98.472382     Arizona\n",
       "4             CA              111.838101  California"
      ]
     },
     "execution_count": 17,
     "metadata": {},
     "output_type": "execute_result"
    }
   ],
   "source": [
    "# Add \"stateFull\" column to the first DataFrame \n",
    "\n",
    "df_avgPayment['stateFull'] = df_avgPayment['provider_state'].map(states)\n",
    "df_avgPayment.head()"
   ]
  },
  {
   "cell_type": "code",
   "execution_count": 18,
   "metadata": {
    "scrolled": true
   },
   "outputs": [
    {
     "data": {
      "text/html": [
       "<div>\n",
       "<style scoped>\n",
       "    .dataframe tbody tr th:only-of-type {\n",
       "        vertical-align: middle;\n",
       "    }\n",
       "\n",
       "    .dataframe tbody tr th {\n",
       "        vertical-align: top;\n",
       "    }\n",
       "\n",
       "    .dataframe thead th {\n",
       "        text-align: right;\n",
       "    }\n",
       "</style>\n",
       "<table border=\"1\" class=\"dataframe\">\n",
       "  <thead>\n",
       "    <tr style=\"text-align: right;\">\n",
       "      <th>topic</th>\n",
       "      <th>stateFull</th>\n",
       "      <th>Nutrition</th>\n",
       "      <th>Obesity</th>\n",
       "      <th>Physical Activity</th>\n",
       "      <th>totalPolicy</th>\n",
       "    </tr>\n",
       "  </thead>\n",
       "  <tbody>\n",
       "    <tr>\n",
       "      <th>0</th>\n",
       "      <td>Alabama</td>\n",
       "      <td>23.0</td>\n",
       "      <td>10.0</td>\n",
       "      <td>7.0</td>\n",
       "      <td>40.0</td>\n",
       "    </tr>\n",
       "    <tr>\n",
       "      <th>1</th>\n",
       "      <td>Alaska</td>\n",
       "      <td>2.0</td>\n",
       "      <td>1.0</td>\n",
       "      <td>6.0</td>\n",
       "      <td>9.0</td>\n",
       "    </tr>\n",
       "    <tr>\n",
       "      <th>2</th>\n",
       "      <td>Arizona</td>\n",
       "      <td>4.0</td>\n",
       "      <td>7.0</td>\n",
       "      <td>6.0</td>\n",
       "      <td>17.0</td>\n",
       "    </tr>\n",
       "    <tr>\n",
       "      <th>3</th>\n",
       "      <td>Arkansas</td>\n",
       "      <td>55.0</td>\n",
       "      <td>31.0</td>\n",
       "      <td>21.0</td>\n",
       "      <td>107.0</td>\n",
       "    </tr>\n",
       "    <tr>\n",
       "      <th>4</th>\n",
       "      <td>California</td>\n",
       "      <td>37.0</td>\n",
       "      <td>10.0</td>\n",
       "      <td>26.0</td>\n",
       "      <td>73.0</td>\n",
       "    </tr>\n",
       "  </tbody>\n",
       "</table>\n",
       "</div>"
      ],
      "text/plain": [
       "topic   stateFull  Nutrition  Obesity  Physical Activity  totalPolicy\n",
       "0         Alabama       23.0     10.0                7.0         40.0\n",
       "1          Alaska        2.0      1.0                6.0          9.0\n",
       "2         Arizona        4.0      7.0                6.0         17.0\n",
       "3        Arkansas       55.0     31.0               21.0        107.0\n",
       "4      California       37.0     10.0               26.0         73.0"
      ]
     },
     "execution_count": 18,
     "metadata": {},
     "output_type": "execute_result"
    }
   ],
   "source": [
    "# Check whether the second DataFrame is ready to be merged\n",
    "\n",
    "df_countPolicy.head()"
   ]
  },
  {
   "cell_type": "code",
   "execution_count": 19,
   "metadata": {},
   "outputs": [
    {
     "data": {
      "text/html": [
       "<div>\n",
       "<style scoped>\n",
       "    .dataframe tbody tr th:only-of-type {\n",
       "        vertical-align: middle;\n",
       "    }\n",
       "\n",
       "    .dataframe tbody tr th {\n",
       "        vertical-align: top;\n",
       "    }\n",
       "\n",
       "    .dataframe thead th {\n",
       "        text-align: right;\n",
       "    }\n",
       "</style>\n",
       "<table border=\"1\" class=\"dataframe\">\n",
       "  <thead>\n",
       "    <tr style=\"text-align: right;\">\n",
       "      <th></th>\n",
       "      <th>stateFull</th>\n",
       "      <th>yearlySalary</th>\n",
       "      <th>hourlySalary</th>\n",
       "    </tr>\n",
       "  </thead>\n",
       "  <tbody>\n",
       "    <tr>\n",
       "      <th>0</th>\n",
       "      <td>Alabama</td>\n",
       "      <td>57890.0</td>\n",
       "      <td>27.83</td>\n",
       "    </tr>\n",
       "    <tr>\n",
       "      <th>1</th>\n",
       "      <td>Alaska</td>\n",
       "      <td>87510.0</td>\n",
       "      <td>42.07</td>\n",
       "    </tr>\n",
       "    <tr>\n",
       "      <th>2</th>\n",
       "      <td>Arizona</td>\n",
       "      <td>75110.0</td>\n",
       "      <td>36.11</td>\n",
       "    </tr>\n",
       "    <tr>\n",
       "      <th>3</th>\n",
       "      <td>Arkansas</td>\n",
       "      <td>58810.0</td>\n",
       "      <td>28.28</td>\n",
       "    </tr>\n",
       "    <tr>\n",
       "      <th>4</th>\n",
       "      <td>California</td>\n",
       "      <td>102700.0</td>\n",
       "      <td>49.37</td>\n",
       "    </tr>\n",
       "  </tbody>\n",
       "</table>\n",
       "</div>"
      ],
      "text/plain": [
       "    stateFull  yearlySalary  hourlySalary\n",
       "0     Alabama       57890.0         27.83\n",
       "1      Alaska       87510.0         42.07\n",
       "2     Arizona       75110.0         36.11\n",
       "3    Arkansas       58810.0         28.28\n",
       "4  California      102700.0         49.37"
      ]
     },
     "execution_count": 19,
     "metadata": {},
     "output_type": "execute_result"
    }
   ],
   "source": [
    "# Make sure the third DataFrame is ready to be merged\n",
    "\n",
    "df_nursingIncome.columns = ['stateFull','yearlySalary','hourlySalary']\n",
    "df_nursingIncome.head()"
   ]
  },
  {
   "cell_type": "code",
   "execution_count": 20,
   "metadata": {},
   "outputs": [
    {
     "name": "stdout",
     "output_type": "stream",
     "text": [
      "49\n"
     ]
    }
   ],
   "source": [
    "# Merge three df together \n",
    "\n",
    "result = pd.merge(df_avgPayment,df_countPolicy,on='stateFull')\n",
    "result = pd.merge(result,df_nursingIncome,on='stateFull')\n",
    "print(len(result))"
   ]
  },
  {
   "cell_type": "code",
   "execution_count": 21,
   "metadata": {},
   "outputs": [
    {
     "data": {
      "text/html": [
       "<div>\n",
       "<style scoped>\n",
       "    .dataframe tbody tr th:only-of-type {\n",
       "        vertical-align: middle;\n",
       "    }\n",
       "\n",
       "    .dataframe tbody tr th {\n",
       "        vertical-align: top;\n",
       "    }\n",
       "\n",
       "    .dataframe thead th {\n",
       "        text-align: right;\n",
       "    }\n",
       "</style>\n",
       "<table border=\"1\" class=\"dataframe\">\n",
       "  <thead>\n",
       "    <tr style=\"text-align: right;\">\n",
       "      <th></th>\n",
       "      <th>provider_state</th>\n",
       "      <th>average_total_payments</th>\n",
       "      <th>stateFull</th>\n",
       "      <th>Nutrition</th>\n",
       "      <th>Obesity</th>\n",
       "      <th>Physical Activity</th>\n",
       "      <th>totalPolicy</th>\n",
       "      <th>yearlySalary</th>\n",
       "      <th>hourlySalary</th>\n",
       "    </tr>\n",
       "  </thead>\n",
       "  <tbody>\n",
       "    <tr>\n",
       "      <th>0</th>\n",
       "      <td>AK</td>\n",
       "      <td>94.437888</td>\n",
       "      <td>Alaska</td>\n",
       "      <td>2.0</td>\n",
       "      <td>1.0</td>\n",
       "      <td>6.0</td>\n",
       "      <td>9.0</td>\n",
       "      <td>87510.0</td>\n",
       "      <td>42.07</td>\n",
       "    </tr>\n",
       "    <tr>\n",
       "      <th>1</th>\n",
       "      <td>AL</td>\n",
       "      <td>77.343135</td>\n",
       "      <td>Alabama</td>\n",
       "      <td>23.0</td>\n",
       "      <td>10.0</td>\n",
       "      <td>7.0</td>\n",
       "      <td>40.0</td>\n",
       "      <td>57890.0</td>\n",
       "      <td>27.83</td>\n",
       "    </tr>\n",
       "    <tr>\n",
       "      <th>2</th>\n",
       "      <td>AR</td>\n",
       "      <td>83.748560</td>\n",
       "      <td>Arkansas</td>\n",
       "      <td>55.0</td>\n",
       "      <td>31.0</td>\n",
       "      <td>21.0</td>\n",
       "      <td>107.0</td>\n",
       "      <td>58810.0</td>\n",
       "      <td>28.28</td>\n",
       "    </tr>\n",
       "    <tr>\n",
       "      <th>3</th>\n",
       "      <td>AZ</td>\n",
       "      <td>98.472382</td>\n",
       "      <td>Arizona</td>\n",
       "      <td>4.0</td>\n",
       "      <td>7.0</td>\n",
       "      <td>6.0</td>\n",
       "      <td>17.0</td>\n",
       "      <td>75110.0</td>\n",
       "      <td>36.11</td>\n",
       "    </tr>\n",
       "    <tr>\n",
       "      <th>4</th>\n",
       "      <td>CA</td>\n",
       "      <td>111.838101</td>\n",
       "      <td>California</td>\n",
       "      <td>37.0</td>\n",
       "      <td>10.0</td>\n",
       "      <td>26.0</td>\n",
       "      <td>73.0</td>\n",
       "      <td>102700.0</td>\n",
       "      <td>49.37</td>\n",
       "    </tr>\n",
       "  </tbody>\n",
       "</table>\n",
       "</div>"
      ],
      "text/plain": [
       "  provider_state  average_total_payments   stateFull  Nutrition  Obesity  \\\n",
       "0             AK               94.437888      Alaska        2.0      1.0   \n",
       "1             AL               77.343135     Alabama       23.0     10.0   \n",
       "2             AR               83.748560    Arkansas       55.0     31.0   \n",
       "3             AZ               98.472382     Arizona        4.0      7.0   \n",
       "4             CA              111.838101  California       37.0     10.0   \n",
       "\n",
       "   Physical Activity  totalPolicy  yearlySalary  hourlySalary  \n",
       "0                6.0          9.0       87510.0         42.07  \n",
       "1                7.0         40.0       57890.0         27.83  \n",
       "2               21.0        107.0       58810.0         28.28  \n",
       "3                6.0         17.0       75110.0         36.11  \n",
       "4               26.0         73.0      102700.0         49.37  "
      ]
     },
     "execution_count": 21,
     "metadata": {},
     "output_type": "execute_result"
    }
   ],
   "source": [
    "result.head()"
   ]
  },
  {
   "cell_type": "code",
   "execution_count": 29,
   "metadata": {},
   "outputs": [
    {
     "data": {
      "image/png": "[encoded data removed]",
      "text/plain": [
       "<Figure size 432x288 with 1 Axes>"
      ]
     },
     "metadata": {
      "needs_background": "light"
     },
     "output_type": "display_data"
    }
   ],
   "source": [
    "# Explore the relationship between interested dependent variable and independent variables\n",
    "# Only \"hourlySalary\" and the dependent variable can be converged in Linear Least Squares successfully\n",
    "\n",
    "plt.scatter(result['hourlySalary'],result['average_total_payments'],alpha = 0.15,marker='o')\n",
    "plt.plot(np.unique(result['hourlySalary']),\n",
    "         np.poly1d(np.polyfit(result['hourlySalary'],\n",
    "                              result['average_total_payments'], 1))(np.unique(result['hourlySalary'])),\n",
    "         color='green', linestyle=\"--\", linewidth=2)\n",
    "\n",
    "plt.ylabel('Average total payments of clinic visits')\n",
    "plt.xlabel('Hourly salary of nurses')\n",
    "plt.title('Clinic visit costs and hourly salary of nurses')\n",
    "plt.savefig('figure2.png',dpi=100)"
   ]
  },
  {
   "cell_type": "code",
   "execution_count": 30,
   "metadata": {},
   "outputs": [],
   "source": [
    "# Import statistics model to test the relationship of variables\n",
    "\n",
    "import statsmodels.api as sm\n",
    "from statsmodels.iolib.summary2 import summary_col"
   ]
  },
  {
   "cell_type": "code",
   "execution_count": 31,
   "metadata": {},
   "outputs": [
    {
     "name": "stdout",
     "output_type": "stream",
     "text": [
      "                              OLS Regression Results                              \n",
      "==================================================================================\n",
      "Dep. Variable:     average_total_payments   R-squared:                       0.531\n",
      "Model:                                OLS   Adj. R-squared:                  0.479\n",
      "Method:                     Least Squares   F-statistic:                     10.19\n",
      "Date:                    Tue, 12 Nov 2019   Prob (F-statistic):           1.28e-05\n",
      "Time:                            02:48:12   Log-Likelihood:                -139.06\n",
      "No. Observations:                      41   AIC:                             288.1\n",
      "Df Residuals:                          36   BIC:                             296.7\n",
      "Df Model:                               4                                         \n",
      "Covariance Type:                nonrobust                                         \n",
      "=====================================================================================\n",
      "                        coef    std err          t      P>|t|      [0.025      0.975]\n",
      "-------------------------------------------------------------------------------------\n",
      "const                41.4377      7.967      5.201      0.000      25.279      57.596\n",
      "Nutrition            -0.0805      0.143     -0.562      0.578      -0.371       0.210\n",
      "Obesity               0.2255      0.310      0.728      0.471      -0.403       0.854\n",
      "Physical Activity    -0.1405      0.171     -0.821      0.417      -0.487       0.206\n",
      "totalPolicy           0.0045      0.032      0.141      0.889      -0.060       0.069\n",
      "hourlySalary          1.4502      0.235      6.182      0.000       0.974       1.926\n",
      "==============================================================================\n",
      "Omnibus:                       10.202   Durbin-Watson:                   1.884\n",
      "Prob(Omnibus):                  0.006   Jarque-Bera (JB):               12.937\n",
      "Skew:                          -0.709   Prob(JB):                      0.00155\n",
      "Kurtosis:                       5.358   Cond. No.                     1.14e+16\n",
      "==============================================================================\n",
      "\n",
      "Warnings:\n",
      "[1] Standard Errors assume that the covariance matrix of the errors is correctly specified.\n",
      "[2] The smallest eigenvalue is 1.88e-27. This might indicate that there are\n",
      "strong multicollinearity problems or that the design matrix is singular.\n"
     ]
    }
   ],
   "source": [
    "result['const'] = 1\n",
    "\n",
    "reg = sm.OLS(endog=result['average_total_payments'], exog=result[['const','Nutrition','Obesity','Physical Activity','totalPolicy',\n",
    "                                                                  'hourlySalary']],missing='drop')\n",
    "type(reg)\n",
    "\n",
    "regResults = reg.fit()\n",
    "\n",
    "print(regResults.summary())"
   ]
  }
 ],
 "metadata": {
  "kernelspec": {
   "display_name": "Python 3",
   "language": "python",
   "name": "python3"
  },
  "language_info": {
   "codemirror_mode": {
    "name": "ipython",
    "version": 3
   },
   "file_extension": ".py",
   "mimetype": "text/x-python",
   "name": "python",
   "nbconvert_exporter": "python",
   "pygments_lexer": "ipython3",
   "version": "3.7.3"
  }
 },
 "nbformat": 4,
 "nbformat_minor": 2
}
