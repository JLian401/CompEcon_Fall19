{
 "cells": [
  {
   "cell_type": "markdown",
   "metadata": {},
   "source": [
    "## Standard Library\n",
    "### Problem 1"
   ]
  },
  {
   "cell_type": "code",
   "execution_count": 2,
   "metadata": {},
   "outputs": [
    {
     "name": "stdout",
     "output_type": "stream",
     "text": [
      "How many numbers in your list? 3\n",
      "you will input 1 th number:\n",
      "1\n",
      "you will input 2 th number:\n",
      "3\n",
      "you will input 3 th number:\n",
      "4\n",
      "Minimum: 1.00 Maximun: 4.00 Mean: 2.67\n"
     ]
    }
   ],
   "source": [
    "# input a list of numbers by yourself\n",
    "import numpy as np\n",
    "input_list = []\n",
    "n = int(input(\"How many numbers in your list? \"))\n",
    "for i in range(0,n):\n",
    "    print(\"you will input\",i+1,\"th number:\")\n",
    "    ele = float(input())\n",
    "    input_list.append(ele)\n",
    "print('Minimum: %.2f' % min(input_list), 'Maximun: %.2f' % max(input_list), 'Mean: %.2f' % np.mean(input_list))"
   ]
  },
  {
   "cell_type": "markdown",
   "metadata": {},
   "source": [
    "### Problem 2"
   ]
  },
  {
   "cell_type": "code",
   "execution_count": 4,
   "metadata": {},
   "outputs": [
    {
     "name": "stdout",
     "output_type": "stream",
     "text": [
      "int is immutable\n",
      "str is immutable\n",
      "list is mutable\n",
      "tuple is immutable\n",
      "set is immutable\n"
     ]
    }
   ],
   "source": [
    "# Checking whether int is mutable\n",
    "int_1 = 777\n",
    "int_2 = int_1\n",
    "int_2 = 888\n",
    "if int_1 == int_2:\n",
    "    print(\"int is mutable\")\n",
    "else:\n",
    "    print(\"int is immutable\")\n",
    "\n",
    "# Checking whether str is mutable\n",
    "str_1 = 'Python3.0'\n",
    "str_2 = str_1\n",
    "str_2 = 'Python2.0'\n",
    "if str_1 == str_2:\n",
    "    print(\"str is mutable\")\n",
    "else:\n",
    "    print(\"str is immutable\")\n",
    "\n",
    "# Checking whether list is mutable\n",
    "list_1 = [1,2,3,4,5]\n",
    "list_2 = list_1\n",
    "list_2[3] = 7\n",
    "if list_1 == list_2:\n",
    "    print(\"list is mutable\")\n",
    "else:\n",
    "    print(\"list is immutable\")\n",
    "\n",
    "# Checking whether tuple is mutable\n",
    "tuple_1 = [1, 2, 3, 'a', 'b', 'c']\n",
    "tuple_2 = tuple_1\n",
    "tuple_2 = [1, 2, 4, 'a', 'b', 'c']\n",
    "if tuple_1 == tuple_2:\n",
    "    print(\"tuple is mutable\")\n",
    "else:\n",
    "    print(\"tuple is immutable\")\n",
    "\n",
    "# Checking whether set is mutable\n",
    "set_1 = {1, 1, 2, 2, 3, 3}\n",
    "set_2 = set_1\n",
    "set_2 = {1, 1, 2, 2, 3, 4}\n",
    "if set_1 == set_2:\n",
    "    print(\"set is mutable\")\n",
    "else:\n",
    "    print(\"set is immutable\")"
   ]
  },
  {
   "cell_type": "markdown",
   "metadata": {},
   "source": [
    "### Problem 3"
   ]
  },
  {
   "cell_type": "code",
   "execution_count": 1,
   "metadata": {},
   "outputs": [
    {
     "data": {
      "text/plain": [
       "50.0"
      ]
     },
     "execution_count": 1,
     "metadata": {},
     "output_type": "execute_result"
    }
   ],
   "source": [
    "import calculator as ca\n",
    "\n",
    "# The function of calculating hypotenuse\n",
    "def hypo_tri(x, y):\n",
    "    x1 = x * x\n",
    "    y1 = y * y\n",
    "    z1 = ca.c_sum(x1, y1)\n",
    "    z = ca.sqrt(z1)\n",
    "    return z\n",
    "\n",
    "hypo_tri(30, 40)"
   ]
  },
  {
   "cell_type": "markdown",
   "metadata": {},
   "source": [
    "## Introduction to NumPy\n",
    "\n",
    "### Problem 1"
   ]
  },
  {
   "cell_type": "code",
   "execution_count": 2,
   "metadata": {},
   "outputs": [
    {
     "name": "stdout",
     "output_type": "stream",
     "text": [
      "C = D\n",
      "[[ 37  14 -32 -10]\n",
      " [-54  -7  58  65]]\n"
     ]
    }
   ],
   "source": [
    "import numpy as np\n",
    "A = np.array([[3, -1, 4], [1, 5, -9]])\n",
    "B = np.array([[2, 6, -5, 3], [5, -8, 9, 7], [9, -3, -2, -3]])\n",
    "C = np.dot(A,B)\n",
    "D = A @ B\n",
    "\n",
    "if np.array_equal(C, D):\n",
    "    print(\"C = D\")\n",
    "    print(C)\n",
    "else:\n",
    "    print(\"C != D\")\n",
    "    print(\"C is:\", C, \"D is:\", D )"
   ]
  },
  {
   "cell_type": "markdown",
   "metadata": {},
   "source": [
    "### Problem 2"
   ]
  },
  {
   "cell_type": "code",
   "execution_count": 3,
   "metadata": {},
   "outputs": [
    {
     "data": {
      "text/plain": [
       "array([[   9,   -7,   20],\n",
       "       [  -7,   25, -135],\n",
       "       [ 425,    9,   -7]])"
      ]
     },
     "execution_count": 3,
     "metadata": {},
     "output_type": "execute_result"
    }
   ],
   "source": [
    "import numpy as np\n",
    "def arr_func(A = np.array([[3, 1, 4], [1, 5, 9], [-5, 3, 1]])):\n",
    "    u = (-1) * A * A * A + 9 * A * A - 15 * A\n",
    "    return u\n",
    "arr_func()\n",
    "\n",
    "# The result shows that the component-wise calculation in the function can get the same result"
   ]
  },
  {
   "cell_type": "markdown",
   "metadata": {},
   "source": [
    "### Problem 5"
   ]
  },
  {
   "cell_type": "code",
   "execution_count": 4,
   "metadata": {},
   "outputs": [
    {
     "data": {
      "text/plain": [
       "array([[ 0,  0,  0,  0,  1,  1,  0,  0],\n",
       "       [ 0,  0,  0,  2,  3,  0,  1,  0],\n",
       "       [ 0,  0,  0,  4,  5,  0,  0,  1],\n",
       "       [ 0,  2,  4,  0,  0,  0,  0,  0],\n",
       "       [ 1,  3,  5,  0,  0,  0,  0,  0],\n",
       "       [ 3,  0,  0,  0,  0, -2,  0,  0],\n",
       "       [ 3,  3,  0,  0,  0,  0, -2,  0],\n",
       "       [ 3,  3,  3,  0,  0,  0,  0, -2]])"
      ]
     },
     "execution_count": 4,
     "metadata": {},
     "output_type": "execute_result"
    }
   ],
   "source": [
    "import numpy as np\n",
    "\n",
    "# Define a function\n",
    "def array_create(A0 = np.arange(6), A1 = np.ones((3, 3), dtype = np.int)):\n",
    "    AT = np.reshape(A0, (3, 2))\n",
    "    A = AT.T\n",
    "    B1 = A1 * 3\n",
    "    B = np.tril(B1)\n",
    "    C1 = A1 * (-2)\n",
    "    C2 = np.tril(C1)\n",
    "    C = np.triu(C2)\n",
    "    O3 = np.zeros((3, 3), dtype = np.int)\n",
    "    O2 = np.zeros((2, 2), dtype = np.int)\n",
    "    I3 = np.eye(3, dtype = np.int)\n",
    "    O23 = np.zeros((2, 3), dtype = np.int)\n",
    "    ROW1 = np.hstack((O3, A.T, I3))\n",
    "    ROW2 = np.hstack((A, O2, O23))\n",
    "    ROW3 = np.hstack((B, O23.T, C))\n",
    "    Block = np.vstack((ROW1, ROW2, ROW3))\n",
    "    return Block\n",
    "array_create()"
   ]
  },
  {
   "cell_type": "markdown",
   "metadata": {},
   "source": [
    "## Object Oriented Programming\n",
    "\n",
    "### Problem 1"
   ]
  },
  {
   "cell_type": "code",
   "execution_count": 5,
   "metadata": {},
   "outputs": [],
   "source": [
    "class Backpack(object):\n",
    "    \"\"\" A Backpack V.1.1 object class. Has a name, a color, a max_size and\n",
    "        a list of contents.\n",
    "        \n",
    "    Attributes: \n",
    "        name (str): the name of the backpack's owner.\n",
    "        color (str): the color of the backpack.\n",
    "        max_size (int): the size of the backpack. \n",
    "        contents (list): the contents of the backpack.\n",
    "    \"\"\"\n",
    "    def __init__(self, name, color, max_size = 5):     # The contructor.\n",
    "\n",
    "        self.name = name                    # Initialize some attributes.\n",
    "        self.color = color\n",
    "        self.max_size = max_size\n",
    "        self.contents = []\n",
    "        \n",
    "    \n",
    "    def put(self, item):\n",
    "        \"\"\"\n",
    "        Add 'item' to the backpack's list of contents, \n",
    "        if current number of contents is less than max_size.\n",
    "        \"\"\"\n",
    "        if len(self.contents) >= self.max_size:\n",
    "            print(\"No Room!\")\n",
    "        else:\n",
    "            self.contents.append(item)    \n",
    "    \n",
    "    def dump(self):\n",
    "        \"\"\"Dump all items in the backpack\"\"\"\n",
    "        self.contents.clear()\n",
    "     "
   ]
  },
  {
   "cell_type": "markdown",
   "metadata": {},
   "source": [
    "### Problem 2"
   ]
  },
  {
   "cell_type": "code",
   "execution_count": 6,
   "metadata": {},
   "outputs": [],
   "source": [
    "class Jetpack(Backpack):\n",
    "    \n",
    "    def __init__(self, name, color, max_size = 2, fuel = 10):\n",
    "        Backpack.__init__(self, name, color, max_size)\n",
    "        self.fuel = fuel\n",
    "    \n",
    "    def fly(self):\n",
    "        fue_bur = int(input(\"How much fuel do you want to:\"))\n",
    "        if fue_bur >= self.fuel:\n",
    "            print(\"Not enough fuel!\")\n",
    "        else:\n",
    "            self.fuel -= fue_bur\n",
    "            print(\"%s still has\" % self.name, self.fuel, \"fuel\")\n",
    "    \n",
    "    def dump(self):\n",
    "        self.contents.clear()\n",
    "        self.fuel.clear()"
   ]
  }
 ],
 "metadata": {
  "kernelspec": {
   "display_name": "Python 3",
   "language": "python",
   "name": "python3"
  },
  "language_info": {
   "codemirror_mode": {
    "name": "ipython",
    "version": 3
   },
   "file_extension": ".py",
   "mimetype": "text/x-python",
   "name": "python",
   "nbconvert_exporter": "python",
   "pygments_lexer": "ipython3",
   "version": "3.7.3"
  }
 },
 "nbformat": 4,
 "nbformat_minor": 2
}
